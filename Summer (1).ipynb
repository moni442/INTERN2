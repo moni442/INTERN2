{
  "nbformat": 4,
  "nbformat_minor": 0,
  "metadata": {
    "kernelspec": {
      "display_name": "Python 2",
      "language": "python",
      "name": "python2"
    },
    "language_info": {
      "codemirror_mode": {
        "name": "ipython",
        "version": 2
      },
      "file_extension": ".py",
      "mimetype": "text/x-python",
      "name": "python",
      "nbconvert_exporter": "python",
      "pygments_lexer": "ipython2",
      "version": "2.7.16"
    },
    "colab": {
      "name": "Summer.ipynb",
      "provenance": [],
      "collapsed_sections": []
    }
  },
  "cells": [
    {
      "cell_type": "markdown",
      "metadata": {
        "id": "y-O6ei5l1BiS"
      },
      "source": [
        "# Summer Olympics Data Analysis Assignment"
      ]
    },
    {
      "cell_type": "code",
      "metadata": {
        "id": "esF1DnVwCroH"
      },
      "source": [
        "import pandas as pd\n",
        "import numpy as np\n",
        "import matplotlib.pyplot as plt\n",
        "df = pd.read_csv(\"summer.csv\")"
      ],
      "execution_count": null,
      "outputs": []
    },
    {
      "cell_type": "markdown",
      "metadata": {
        "id": "H14ZcxnO1BiW"
      },
      "source": [
        "### 1. In how many cities Summer Olympics is held so far?"
      ]
    },
    {
      "cell_type": "code",
      "metadata": {
        "colab": {
          "base_uri": "https://localhost:8080/"
        },
        "id": "cNa2MzaX1BiX",
        "outputId": "5ecac5c6-9312-46b8-91df-6f933fa1e700"
      },
      "source": [
        "count=0\n",
        "print(\"Cities in which the Summer Olympics held so far are:\" )\n",
        "for city in df['City'].unique():\n",
        "    count+=1\n",
        "    print(city)  \n",
        "print(\"Number of cities in which Summer Olympics has been held so far is :\")\n",
        "print(count)"
      ],
      "execution_count": null,
      "outputs": [
        {
          "output_type": "stream",
          "name": "stdout",
          "text": [
            "Cities in which the Summer Olympics held so far are:\n",
            "Athens\n",
            "Paris\n",
            "St Louis\n",
            "London\n",
            "Stockholm\n",
            "Antwerp\n",
            "Amsterdam\n",
            "Los Angeles\n",
            "Berlin\n",
            "Helsinki\n",
            "Melbourne / Stockholm\n",
            "Rome\n",
            "Tokyo\n",
            "Mexico\n",
            "Munich\n",
            "Montreal\n",
            "Moscow\n",
            "Seoul\n",
            "Barcelona\n",
            "Atlanta\n",
            "Sydney\n",
            "Beijing\n",
            "Number of cities in which Summer Olympics has been held so far is :\n",
            "22\n"
          ]
        }
      ]
    },
    {
      "cell_type": "markdown",
      "metadata": {
        "id": "ZBKa1HPH1BiX"
      },
      "source": [
        "### 2. Which sport is having most number of Gold Medals so far? (Top 5)"
      ]
    },
    {
      "cell_type": "code",
      "metadata": {
        "id": "O7SjMKWq1BiY",
        "colab": {
          "base_uri": "https://localhost:8080/",
          "height": 504
        },
        "outputId": "18b2d83a-6844-4187-bb58-4a8320b97ebc"
      },
      "source": [
        "data = df.values\n",
        "dat = []\n",
        "for sport in df['Sport'].unique(): \n",
        "    gold_medals = 0\n",
        "    for i in range(len(data)):\n",
        "        if (data[i][2] == sport) and (data[i][8] == \"Gold\") :\n",
        "            gold_medals += 1\n",
        "    dat.append([gold_medals,sport])\n",
        "    dat.sort(reverse = True)    \n",
        "print(\"Top 5 Sport with most number of Gold Medals:\")\n",
        "for i in range(0,5):\n",
        "    print(dat[i])\n",
        "pd.DataFrame(dat,columns = [ gold_medals,'Sport']).sort_values(by= gold_medals, ascending=False).head().plot(x = 'Sport', y = gold_medals, kind = 'bar', figsize = (10,5))"
      ],
      "execution_count": null,
      "outputs": [
        {
          "output_type": "stream",
          "name": "stdout",
          "text": [
            "Top 5 Sport with most number of Gold Medals:\n",
            "[1421, 'Aquatics']\n",
            "[1215, 'Athletics']\n",
            "[890, 'Rowing']\n",
            "[820, 'Gymnastics']\n",
            "[552, 'Fencing']\n"
          ]
        },
        {
          "output_type": "execute_result",
          "data": {
            "text/plain": [
              "<matplotlib.axes._subplots.AxesSubplot at 0x7f9d22710190>"
            ]
          },
          "metadata": {},
          "execution_count": 34
        },
        {
          "output_type": "display_data",
          "data": {
            "image/png": "[encoded data removed]",
            "text/plain": [
              "<Figure size 720x360 with 1 Axes>"
            ]
          },
          "metadata": {
            "needs_background": "light"
          }
        }
      ]
    },
    {
      "cell_type": "markdown",
      "metadata": {
        "id": "EBSlYdn81BiY"
      },
      "source": [
        "### 3. Which sport is having most number of medals so far? (Top 5)"
      ]
    },
    {
      "cell_type": "code",
      "metadata": {
        "id": "t7wPsSWx1BiY",
        "colab": {
          "base_uri": "https://localhost:8080/",
          "height": 504
        },
        "outputId": "eef9a90f-6148-4f46-fdba-a8d2e1a529b7"
      },
      "source": [
        "data = df.values\n",
        "dat = []\n",
        "for sport in df['Sport'].unique(): \n",
        "    tot_medals = 0\n",
        "    for i in range(len(data)):\n",
        "        if (data[i][2] == sport) and ((data[i][8] == \"Gold\") or (data[i][8] == \"Silver\") or (data[i][8] == \"Bronze\")) :\n",
        "            tot_medals += 1\n",
        "    dat.append([tot_medals,sport])\n",
        "    dat.sort(reverse = True)\n",
        "print(\"Top 5 Sport with most number of Medals:\")\n",
        "for i in range(0,5):\n",
        "    print(dat[i])\n",
        "pd.DataFrame(dat,columns = [ tot_medals,'Sport']).sort_values(by= tot_medals, ascending=False).head().plot(x = 'Sport', y = tot_medals, kind = 'bar', figsize = (10,5))"
      ],
      "execution_count": null,
      "outputs": [
        {
          "output_type": "stream",
          "name": "stdout",
          "text": [
            "Top 5 Sport with most number of Medals:\n",
            "[4170, 'Aquatics']\n",
            "[3638, 'Athletics']\n",
            "[2667, 'Rowing']\n",
            "[2307, 'Gymnastics']\n",
            "[1613, 'Fencing']\n"
          ]
        },
        {
          "output_type": "execute_result",
          "data": {
            "text/plain": [
              "<matplotlib.axes._subplots.AxesSubplot at 0x7f9d22734190>"
            ]
          },
          "metadata": {},
          "execution_count": 35
        },
        {
          "output_type": "display_data",
          "data": {
            "image/png": "[encoded data removed]",
            "text/plain": [
              "<Figure size 720x360 with 1 Axes>"
            ]
          },
          "metadata": {
            "needs_background": "light"
          }
        }
      ]
    },
    {
      "cell_type": "markdown",
      "metadata": {
        "id": "xzYDT4fy1BiZ"
      },
      "source": [
        "### 4. Which player has won most number of medals? (Top 5)"
      ]
    },
    {
      "cell_type": "code",
      "metadata": {
        "id": "sYlMs0zU1BiZ",
        "colab": {
          "base_uri": "https://localhost:8080/",
          "height": 549
        },
        "outputId": "7227fc00-1bb9-4595-bd29-821796dc7b73"
      },
      "source": [
        "data = df.values\n",
        "dat = []\n",
        "for player in df['Athlete'].unique(): \n",
        " medals = 0\n",
        " for i in range(len(data)):\n",
        "    if (data[i][4] == player) and ((data[i][8] == \"Gold\") or (data[i][8] == \"Silver\") or (data[i][8] == \"Bronze\")) :\n",
        "      medals += 1\n",
        " dat.append([medals,player])\n",
        " dat.sort(reverse = True)\n",
        "print(\"Top 5 players who have won the most number of medals :\")\n",
        "for i in range(0,5):\n",
        " print(dat[i])\n",
        "pd.DataFrame(dat,columns = [medals, 'Athlete']).sort_values(by= medals, ascending=False).head().plot(x = 'Athlete', y = medals, kind = 'bar', figsize = (10,5))"
      ],
      "execution_count": null,
      "outputs": [
        {
          "output_type": "stream",
          "name": "stdout",
          "text": [
            "Top 5 players who have won the most number of medals :\n",
            "[22, 'PHELPS, Michael']\n",
            "[18, 'LATYNINA, Larisa']\n",
            "[15, 'ANDRIANOV, Nikolay']\n",
            "[13, 'SHAKHLIN, Boris']\n",
            "[13, 'ONO, Takashi']\n"
          ]
        },
        {
          "output_type": "execute_result",
          "data": {
            "text/plain": [
              "<matplotlib.axes._subplots.AxesSubplot at 0x7f9d2250c850>"
            ]
          },
          "metadata": {},
          "execution_count": 36
        },
        {
          "output_type": "display_data",
          "data": {
            "image/png": "[encoded data removed]",
            "text/plain": [
              "<Figure size 720x360 with 1 Axes>"
            ]
          },
          "metadata": {
            "needs_background": "light"
          }
        }
      ]
    },
    {
      "cell_type": "markdown",
      "metadata": {
        "id": "9PXmMooL1BiZ"
      },
      "source": [
        "### 5. Which player has won most number Gold Medals of medals? (Top 5)"
      ]
    },
    {
      "cell_type": "code",
      "metadata": {
        "id": "aUFOC4Kf1BiZ",
        "colab": {
          "base_uri": "https://localhost:8080/",
          "height": 530
        },
        "outputId": "1e79b648-300d-42a8-cbd7-9447347d31c3"
      },
      "source": [
        "data = df.values\n",
        "dat = []\n",
        "for player in df['Athlete'].unique(): \n",
        " medals = 0\n",
        " for i in range(len(data)):\n",
        "    if (data[i][4] == player) and (data[i][8] == \"Gold\") :\n",
        "      medals += 1\n",
        " dat.append([medals,player])\n",
        " dat.sort(reverse = True)\n",
        "print(\"Top 5 players who have won the most number of gold medals :\")\n",
        "for i in range(0,5):\n",
        " print(dat[i])\n",
        "pd.DataFrame(dat,columns = [medals, 'Athlete']).sort_values(by= medals, ascending=False).head().plot(x = 'Athlete', y = medals, kind = 'bar', figsize = (10,5))"
      ],
      "execution_count": null,
      "outputs": [
        {
          "output_type": "stream",
          "name": "stdout",
          "text": [
            "Top 5 players who have won the most number of gold medals :\n",
            "[18, 'PHELPS, Michael']\n",
            "[9, 'SPITZ, Mark']\n",
            "[9, 'NURMI, Paavo']\n",
            "[9, 'LEWIS, Carl']\n",
            "[9, 'LATYNINA, Larisa']\n"
          ]
        },
        {
          "output_type": "execute_result",
          "data": {
            "text/plain": [
              "<matplotlib.axes._subplots.AxesSubplot at 0x7f9d222bde50>"
            ]
          },
          "metadata": {},
          "execution_count": 37
        },
        {
          "output_type": "display_data",
          "data": {
            "image/png": "[encoded data removed]",
            "text/plain": [
              "<Figure size 720x360 with 1 Axes>"
            ]
          },
          "metadata": {
            "needs_background": "light"
          }
        }
      ]
    },
    {
      "cell_type": "markdown",
      "metadata": {
        "id": "xoTCdusB1Bia"
      },
      "source": [
        "### 6. In which year India won first Gold Medal in Summer Olympics?"
      ]
    },
    {
      "cell_type": "code",
      "metadata": {
        "id": "hMxXe1O51Bia",
        "colab": {
          "base_uri": "https://localhost:8080/"
        },
        "outputId": "df5a1122-9fa6-42da-84b7-771ae5d376a1"
      },
      "source": [
        "data=df.values\n",
        "dat= []\n",
        "for year in df['Year'].unique():\n",
        "  for country in df['Country'].unique():\n",
        "    for medal in df['Medal'].unique():\n",
        "        if((data[i][8] == 'Gold') and (data[i][5]=='IND')):\n",
        "              dat.append([year])\n",
        "print(\"First Gold Medal for India : \")\n",
        "print(year)"
      ],
      "execution_count": null,
      "outputs": [
        {
          "output_type": "stream",
          "name": "stdout",
          "text": [
            "First Gold Medal for India : \n",
            "2012\n"
          ]
        }
      ]
    },
    {
      "cell_type": "markdown",
      "metadata": {
        "id": "qNrx1C1K1Bia"
      },
      "source": [
        "### 7. Which event is most popular in terms on number of players? (Top 5)"
      ]
    },
    {
      "cell_type": "code",
      "metadata": {
        "id": "7tweSqS31Bia",
        "colab": {
          "base_uri": "https://localhost:8080/",
          "height": 537
        },
        "outputId": "1947447c-82a1-451d-86a9-c4bddc7e4ae6"
      },
      "source": [
        "data = df.values\n",
        "dat = []\n",
        "for event in df['Event'].unique(): \n",
        " tot_players = 0\n",
        " for i in range(len(data)):\n",
        "    if (data[i][7] == event) and (data[i][7] != None) :\n",
        "      tot_players += 1\n",
        " dat.append([tot_players,event])\n",
        " dat.sort(reverse = True)\n",
        "print(\"Top 5 most popular events in terms of number of players\") \n",
        "for i in range(0,5):\n",
        " print(dat[i])\n",
        "pd.DataFrame(dat,columns = [tot_players, 'Event']).sort_values(by= tot_players, ascending=False).head().plot(x = 'Event', y = tot_players, kind = 'bar', figsize = (10,5))"
      ],
      "execution_count": null,
      "outputs": [
        {
          "output_type": "stream",
          "name": "stdout",
          "text": [
            "Top 5 most popular events in terms of number of players\n",
            "[1497, 'Football']\n",
            "[1422, 'Hockey']\n",
            "[1147, 'Team Competition']\n",
            "[1012, 'Basketball']\n",
            "[973, 'Handball']\n"
          ]
        },
        {
          "output_type": "execute_result",
          "data": {
            "text/plain": [
              "<matplotlib.axes._subplots.AxesSubplot at 0x7f9d22754a50>"
            ]
          },
          "metadata": {},
          "execution_count": 40
        },
        {
          "output_type": "display_data",
          "data": {
            "image/png": "[encoded data removed]",
            "text/plain": [
              "<Figure size 720x360 with 1 Axes>"
            ]
          },
          "metadata": {
            "needs_background": "light"
          }
        }
      ]
    },
    {
      "cell_type": "markdown",
      "metadata": {
        "id": "o7GQ_PQl1Bia"
      },
      "source": [
        "### 8. Which sport is having most female Gold Medalists? (Top 5)"
      ]
    },
    {
      "cell_type": "code",
      "metadata": {
        "id": "QxReVtN51Bib",
        "colab": {
          "base_uri": "https://localhost:8080/",
          "height": 504
        },
        "outputId": "b42e75a8-bed5-4a20-a3d2-fbc8924d9fd5"
      },
      "source": [
        "data = df.values\n",
        "tot_fg_medals = 0\n",
        "dat = []\n",
        "for sport in df['Sport'].unique(): \n",
        " fg_medals = 0\n",
        " for i in range(len(data)):\n",
        "    if (data[i][2] == sport) and ((data[i][6] == \"Women\") and (data[i][8] == \"Gold\"))  :\n",
        "      fg_medals += 1\n",
        "      tot_fg_medals += 1\n",
        " dat.append([fg_medals,sport])\n",
        " dat.sort(reverse = True)\n",
        "print(\"Top 5 sport having most female Gold Medalists:\")\n",
        "for i in range(0,5):\n",
        " print(dat[i])\n",
        "pd.DataFrame(dat,columns = [fg_medals, 'Sport']).sort_values(by= fg_medals, ascending=False).head().plot(x = 'Sport', y = fg_medals, kind = 'bar', figsize = (10,5))"
      ],
      "execution_count": null,
      "outputs": [
        {
          "output_type": "stream",
          "name": "stdout",
          "text": [
            "Top 5 sport having most female Gold Medalists:\n",
            "[589, 'Aquatics']\n",
            "[389, 'Athletics']\n",
            "[268, 'Gymnastics']\n",
            "[217, 'Rowing']\n",
            "[166, 'Volleyball']\n"
          ]
        },
        {
          "output_type": "execute_result",
          "data": {
            "text/plain": [
              "<matplotlib.axes._subplots.AxesSubplot at 0x7f9d2229e6d0>"
            ]
          },
          "metadata": {},
          "execution_count": 38
        },
        {
          "output_type": "display_data",
          "data": {
            "image/png": "[encoded data removed]",
            "text/plain": [
              "<Figure size 720x360 with 1 Axes>"
            ]
          },
          "metadata": {
            "needs_background": "light"
          }
        }
      ]
    },
    {
      "cell_type": "code",
      "metadata": {
        "id": "1OBiG4-0_2LW"
      },
      "source": [
        ""
      ],
      "execution_count": null,
      "outputs": []
    }
  ]
}